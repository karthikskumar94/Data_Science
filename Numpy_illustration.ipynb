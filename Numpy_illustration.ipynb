{
  "cells": [
    {
      "cell_type": "markdown",
      "metadata": {
        "id": "vRQaUGd7ypwb"
      },
      "source": [
        "# NumPy Practice\n",
        "\n",
        "This notebook offers a set of exercises for different tasks with NumPy.\n",
        "\n",
        "It should be noted there may be more than one different way to answer a question or complete an exercise.\n",
        "\n",
        "Exercises are based off (and directly taken from) the quick introduction to NumPy notebook.\n",
        "\n",
        "Different tasks will be detailed by comments or text.\n",
        "\n",
        "For further reference and resources, it's advised to check out the [NumPy documentation](https://numpy.org/devdocs/user/index.html).\n",
        "\n",
        "And if you get stuck, try searching for a question in the following format: \"how to do XYZ with numpy\", where XYZ is the function you want to leverage from NumPy."
      ]
    },
    {
      "cell_type": "code",
      "execution_count": null,
      "metadata": {
        "id": "960kzyRaypwi"
      },
      "outputs": [],
      "source": [
        "# Import NumPy as its abbreviation 'np'\n",
        "import numpy as np"
      ]
    },
    {
      "cell_type": "code",
      "execution_count": null,
      "metadata": {
        "colab": {
          "base_uri": "https://localhost:8080/"
        },
        "id": "7xvicYOJypwk",
        "outputId": "0935b5d7-1c8e-4d5a-cd1e-95df7ed27ba2"
      },
      "outputs": [
        {
          "output_type": "stream",
          "name": "stdout",
          "text": [
            "[1 2 3 4 5]\n",
            "[[1 2 3]\n",
            " [4 5 6]\n",
            " [7 8 9]]\n",
            "[[[ 1  2  3]\n",
            "  [ 4  5  6]\n",
            "  [ 7  8  9]]\n",
            "\n",
            " [[10 11 12]\n",
            "  [13 14 15]\n",
            "  [16 17 18]]\n",
            "\n",
            " [[19 20 21]\n",
            "  [22 23 24]\n",
            "  [25 26 27]]]\n"
          ]
        }
      ],
      "source": [
        "# Create a 1-dimensional NumPy array using np.array()\n",
        "my_array = np.array([1, 2, 3, 4, 5])\n",
        "print(my_array)\n",
        "\n",
        "# Create a 2-dimensional NumPy array using np.array()\n",
        "my_array_2d = np.array([[1, 2, 3],\n",
        "                         [4, 5, 6],\n",
        "                         [7, 8, 9]])\n",
        "print(my_array_2d)\n",
        "\n",
        "# Create a 3-dimensional Numpy array using np.array()\n",
        "import numpy as np\n",
        "\n",
        "# Creating a 3-dimensional NumPy array\n",
        "my_array_3d = np.array([[[1, 2, 3],\n",
        "                         [4, 5, 6],\n",
        "                         [7, 8, 9]],\n",
        "\n",
        "                        [[10, 11, 12],\n",
        "                         [13, 14, 15],\n",
        "                         [16, 17, 18]],\n",
        "\n",
        "                        [[19, 20, 21],\n",
        "                         [22, 23, 24],\n",
        "                         [25, 26, 27]]])\n",
        "print(my_array_3d)"
      ]
    },
    {
      "cell_type": "markdown",
      "metadata": {
        "id": "WYv8sN3Jypwl"
      },
      "source": [
        "Now we've you've created 3 different arrays, let's find details about them.\n",
        "\n",
        "Find the shape, number of dimensions, data type, size and type of each array."
      ]
    },
    {
      "cell_type": "code",
      "execution_count": null,
      "metadata": {
        "colab": {
          "base_uri": "https://localhost:8080/"
        },
        "id": "VTZG4iBzypwl",
        "outputId": "86818d02-25e7-4768-852d-ba77414ed9a4"
      },
      "outputs": [
        {
          "output_type": "stream",
          "name": "stdout",
          "text": [
            "Shape: (5,)\n",
            "Number of dimensions: 1\n",
            "Data type: int64\n",
            "Size: 5\n",
            "Type: <class 'numpy.ndarray'>\n"
          ]
        }
      ],
      "source": [
        "# Attributes of 1-dimensional array (shape,\n",
        "# number of dimensions, data type, size and type)\n",
        "shape = my_array.shape  # Shape of the array\n",
        "dimensions = my_array.ndim  # Number of dimensions\n",
        "data_type = my_array.dtype  # Data type of the elements\n",
        "size = my_array.size  # Number of elements in the array\n",
        "array_type = type(my_array)  # Type of the array\n",
        "\n",
        "# Print the attributes\n",
        "print(\"Shape:\", shape)\n",
        "print(\"Number of dimensions:\", dimensions)\n",
        "print(\"Data type:\", data_type)\n",
        "print(\"Size:\", size)\n",
        "print(\"Type:\", array_type)"
      ]
    },
    {
      "cell_type": "code",
      "execution_count": null,
      "metadata": {
        "colab": {
          "base_uri": "https://localhost:8080/"
        },
        "id": "d9fRxLLGypwm",
        "outputId": "92e6a964-03d3-429b-c6bc-e8790c283b07"
      },
      "outputs": [
        {
          "output_type": "stream",
          "name": "stdout",
          "text": [
            "Shape: (3, 3)\n",
            "Number of dimensions: 2\n",
            "Data type: int64\n",
            "Size: 9\n",
            "Type: <class 'numpy.ndarray'>\n"
          ]
        }
      ],
      "source": [
        "# Attributes of 2-dimensional array\n",
        "shape = my_array_2d.shape  # Shape of the array\n",
        "dimensions = my_array_2d.ndim  # Number of dimensions\n",
        "data_type = my_array_2d.dtype  # Data type of the elements\n",
        "size = my_array_2d.size  # Number of elements in the array\n",
        "array_type = type(my_array_2d)  # Type of the array\n",
        "\n",
        "# Print the attributes\n",
        "print(\"Shape:\", shape)\n",
        "print(\"Number of dimensions:\", dimensions)\n",
        "print(\"Data type:\", data_type)\n",
        "print(\"Size:\", size)\n",
        "print(\"Type:\", array_type)"
      ]
    },
    {
      "cell_type": "code",
      "execution_count": null,
      "metadata": {
        "colab": {
          "base_uri": "https://localhost:8080/"
        },
        "id": "PdfqUP50ypwn",
        "outputId": "d870d33c-455a-4d03-eb0a-d4da4bddcfc8"
      },
      "outputs": [
        {
          "output_type": "stream",
          "name": "stdout",
          "text": [
            "Shape: (3, 3, 3)\n",
            "Number of dimensions: 3\n",
            "Data type: int64\n",
            "Size: 27\n",
            "Type: <class 'numpy.ndarray'>\n"
          ]
        }
      ],
      "source": [
        "# Attributes of 3-dimensional array\n",
        "shape = my_array_3d.shape  # Shape of the array\n",
        "dimensions = my_array_3d.ndim  # Number of dimensions\n",
        "data_type = my_array_3d.dtype  # Data type of the elements\n",
        "size = my_array_3d.size  # Number of elements in the array\n",
        "array_type = type(my_array_3d)  # Type of the array\n",
        "\n",
        "# Print the attributes\n",
        "print(\"Shape:\", shape)\n",
        "print(\"Number of dimensions:\", dimensions)\n",
        "print(\"Data type:\", data_type)\n",
        "print(\"Size:\", size)\n",
        "print(\"Type:\", array_type)"
      ]
    },
    {
      "cell_type": "code",
      "execution_count": null,
      "metadata": {
        "colab": {
          "base_uri": "https://localhost:8080/"
        },
        "id": "RDt4DkRLypwn",
        "outputId": "e9aa8f5f-2fe4-402b-ad3e-8918be628cf8"
      },
      "outputs": [
        {
          "output_type": "stream",
          "name": "stdout",
          "text": [
            "   0  1  2\n",
            "0  1  2  3\n",
            "1  4  5  6\n",
            "2  7  8  9\n"
          ]
        }
      ],
      "source": [
        "# Import pandas and create a DataFrame out of one\n",
        "# of the arrays you've created\n",
        "import pandas as pd\n",
        "my_array_2d = np.array([[1, 2, 3],\n",
        "                        [4, 5, 6],\n",
        "                        [7, 8, 9]])\n",
        "df = pd.DataFrame(my_array_2d)\n",
        "print(df)"
      ]
    },
    {
      "cell_type": "code",
      "execution_count": null,
      "metadata": {
        "colab": {
          "base_uri": "https://localhost:8080/"
        },
        "id": "gxUaVErpypwo",
        "outputId": "02c22cde-aee1-4235-da57-fbb665631312"
      },
      "outputs": [
        {
          "output_type": "stream",
          "name": "stdout",
          "text": [
            "[[1. 1.]\n",
            " [1. 1.]\n",
            " [1. 1.]\n",
            " [1. 1.]\n",
            " [1. 1.]\n",
            " [1. 1.]\n",
            " [1. 1.]\n",
            " [1. 1.]\n",
            " [1. 1.]\n",
            " [1. 1.]]\n"
          ]
        }
      ],
      "source": [
        "# Create an array of shape (10, 2) with only ones\n",
        "ones_array = np.ones((10, 2))\n",
        "print(ones_array)"
      ]
    },
    {
      "cell_type": "code",
      "execution_count": null,
      "metadata": {
        "colab": {
          "base_uri": "https://localhost:8080/"
        },
        "id": "UcHgho9Oypwo",
        "outputId": "6cdbfd4f-3552-42b7-ed77-78bb675fdd48"
      },
      "outputs": [
        {
          "output_type": "stream",
          "name": "stdout",
          "text": [
            "[[[0. 0. 0.]\n",
            "  [0. 0. 0.]]\n",
            "\n",
            " [[0. 0. 0.]\n",
            "  [0. 0. 0.]]\n",
            "\n",
            " [[0. 0. 0.]\n",
            "  [0. 0. 0.]]\n",
            "\n",
            " [[0. 0. 0.]\n",
            "  [0. 0. 0.]]\n",
            "\n",
            " [[0. 0. 0.]\n",
            "  [0. 0. 0.]]\n",
            "\n",
            " [[0. 0. 0.]\n",
            "  [0. 0. 0.]]\n",
            "\n",
            " [[0. 0. 0.]\n",
            "  [0. 0. 0.]]]\n"
          ]
        }
      ],
      "source": [
        "# Create an array of shape (7, 2, 3) of only zeros\n",
        "zeros_array = np.zeros((7, 2, 3))\n",
        "print(zeros_array)"
      ]
    },
    {
      "cell_type": "code",
      "source": [],
      "metadata": {
        "id": "G8NaRp1p6eOh"
      },
      "execution_count": null,
      "outputs": []
    },
    {
      "cell_type": "code",
      "execution_count": null,
      "metadata": {
        "colab": {
          "base_uri": "https://localhost:8080/"
        },
        "id": "ADjqed_Qypwo",
        "outputId": "b16ecc61-14bf-47e5-dd58-989195260eb2"
      },
      "outputs": [
        {
          "output_type": "stream",
          "name": "stdout",
          "text": [
            "[ 0  3  6  9 12 15 18 21 24 27 30 33 36 39 42 45 48 51 54 57 60 63 66 69\n",
            " 72 75 78 81 84 87 90 93 96 99]\n"
          ]
        }
      ],
      "source": [
        "# Create an array within a range of 0 and 100 with step 3\n",
        "my_array = np.arange(0, 100, 3)\n",
        "print(my_array)"
      ]
    },
    {
      "cell_type": "code",
      "execution_count": null,
      "metadata": {
        "colab": {
          "base_uri": "https://localhost:8080/"
        },
        "id": "aXkd8Agwypwp",
        "outputId": "a98f3487-c4ab-435a-efe6-bd66e6c2cda9"
      },
      "outputs": [
        {
          "output_type": "stream",
          "name": "stdout",
          "text": [
            "[[ 7  7]\n",
            " [ 4  1]\n",
            " [ 1  9]\n",
            " [ 1  1]\n",
            " [10  8]\n",
            " [ 2  3]\n",
            " [ 0  2]]\n"
          ]
        }
      ],
      "source": [
        "# Create a random array with numbers between 0 and 10 of size (7, 2)\n",
        "random_array = np.random.randint(0, 11, size=(7, 2))\n",
        "print(random_array)"
      ]
    },
    {
      "cell_type": "code",
      "execution_count": null,
      "metadata": {
        "colab": {
          "base_uri": "https://localhost:8080/"
        },
        "id": "4yTwmiGQypwp",
        "outputId": "b375cd11-a27e-4e8d-bf75-48855fe8a950"
      },
      "outputs": [
        {
          "output_type": "stream",
          "name": "stdout",
          "text": [
            "[[0.81188938 0.15958723 0.07605891 0.93344339 0.56490228]\n",
            " [0.3912913  0.98528906 0.02464361 0.17096416 0.95827307]\n",
            " [0.44107623 0.40343326 0.70410181 0.21457194 0.18358812]]\n"
          ]
        }
      ],
      "source": [
        "# Create a random array of floats between 0 & 1 of shape (3, 5)\n",
        "random_float_array = np.random.rand(3, 5)\n",
        "print(random_float_array)"
      ]
    },
    {
      "cell_type": "code",
      "execution_count": null,
      "metadata": {
        "colab": {
          "base_uri": "https://localhost:8080/"
        },
        "id": "C4jzofadypwp",
        "outputId": "9405056e-5b2b-438d-8a3f-de03d67113dd"
      },
      "outputs": [
        {
          "output_type": "stream",
          "name": "stdout",
          "text": [
            "[[ 6  3 10  7  4  6]\n",
            " [ 9  2  6 10 10  7]\n",
            " [ 4  3  7  7  2  5]\n",
            " [ 4  1  7  5  1  4]]\n"
          ]
        }
      ],
      "source": [
        "# Set the random seed to 42\n",
        "np.random.seed(42)\n",
        "\n",
        "# Create a random array of numbers between 0 & 10 of size (4, 6)\n",
        "random_array = np.random.randint(0, 11, size=(4, 6))\n",
        "print(random_array)"
      ]
    },
    {
      "cell_type": "markdown",
      "metadata": {
        "id": "CIAzs45kypwq"
      },
      "source": [
        "Run the cell above again, what happens?\n",
        "\n",
        "Are the numbers in the array different or the same? Why do think this is?"
      ]
    },
    {
      "cell_type": "code",
      "execution_count": null,
      "metadata": {
        "colab": {
          "base_uri": "https://localhost:8080/"
        },
        "id": "ALd_tOxuypwq",
        "outputId": "de0376fd-bc43-4c49-992a-c6235c14678a"
      },
      "outputs": [
        {
          "output_type": "stream",
          "name": "stdout",
          "text": [
            "[[10  9 10  5  2  4  7]\n",
            " [ 8  3  1  4  2  8  4]\n",
            " [ 2  6  6 10  4  6  2]]\n",
            "Unique numbers are: [ 1  2  3  4  5  6  7  8  9 10]\n"
          ]
        }
      ],
      "source": [
        "# Create an array of random numbers between 1 & 10 of size (3, 7)\n",
        "random_array = np.random.randint(1, 11, size=(3, 7))\n",
        "\n",
        "# and save it to a variable\n",
        "print(random_array)\n",
        "\n",
        "# Find the unique numbers in the array you just created\n",
        "unique_numbers = np.unique(random_array)\n",
        "print(\"Unique numbers are:\", unique_numbers)"
      ]
    },
    {
      "cell_type": "code",
      "execution_count": null,
      "metadata": {
        "colab": {
          "base_uri": "https://localhost:8080/"
        },
        "id": "nqVuwzO-ypwq",
        "outputId": "9b1df25c-2eb3-4bc8-ec14-5c45aef66aa6"
      },
      "outputs": [
        {
          "output_type": "stream",
          "name": "stdout",
          "text": [
            "[10  9 10  5  2  4  7]\n"
          ]
        }
      ],
      "source": [
        "# Find the 0'th index of the latest array you created\n",
        "first_row = random_array[0]\n",
        "print(first_row)"
      ]
    },
    {
      "cell_type": "code",
      "execution_count": null,
      "metadata": {
        "colab": {
          "base_uri": "https://localhost:8080/"
        },
        "id": "1yNRRb2Rypwq",
        "outputId": "748ffdbf-d511-430a-f1e0-c0e4643f9e0a"
      },
      "outputs": [
        {
          "output_type": "stream",
          "name": "stdout",
          "text": [
            "[[10  9 10  5  2  4  7]\n",
            " [ 8  3  1  4  2  8  4]]\n"
          ]
        }
      ],
      "source": [
        "# Get the first 2 rows of latest array you created\n",
        "first_two_rows = random_array[:2, :]\n",
        "print(first_two_rows)"
      ]
    },
    {
      "cell_type": "code",
      "execution_count": null,
      "metadata": {
        "colab": {
          "base_uri": "https://localhost:8080/"
        },
        "id": "IBtPluC0ypwq",
        "outputId": "cdb559ef-301c-444d-ba82-f1389530429a"
      },
      "outputs": [
        {
          "output_type": "stream",
          "name": "stdout",
          "text": [
            "[[10  9]\n",
            " [ 8  3]]\n"
          ]
        }
      ],
      "source": [
        "# Get the first 2 values of the first 2 rows of the latest array\n",
        "first_two_values = random_array[:2, :2]\n",
        "print(first_two_values)"
      ]
    },
    {
      "cell_type": "code",
      "execution_count": null,
      "metadata": {
        "colab": {
          "base_uri": "https://localhost:8080/"
        },
        "id": "eEfQVPVqypwr",
        "outputId": "147c76d2-6fb8-4ca7-8928-c07639675eac"
      },
      "outputs": [
        {
          "output_type": "stream",
          "name": "stdout",
          "text": [
            "Random Array:\n",
            "[[9 1 9 3 7]\n",
            " [6 8 7 4 1]\n",
            " [4 7 9 8 8]]\n",
            "\n",
            "Array of Ones:\n",
            "[[1. 1. 1. 1. 1.]\n",
            " [1. 1. 1. 1. 1.]\n",
            " [1. 1. 1. 1. 1.]]\n"
          ]
        }
      ],
      "source": [
        "# Create a random array of numbers between 0 & 10 and an array of ones\n",
        "# both of size (3, 5), save them both to variables\n",
        "random_array = np.random.randint(0, 11, size=(3, 5))\n",
        "ones_array = np.ones((3, 5))\n",
        "print(\"Random Array:\")\n",
        "print(random_array)\n",
        "print(\"\\nArray of Ones:\")\n",
        "print(ones_array)\n"
      ]
    },
    {
      "cell_type": "code",
      "execution_count": null,
      "metadata": {
        "colab": {
          "base_uri": "https://localhost:8080/"
        },
        "id": "C-tTRnWdypwr",
        "outputId": "d69adfbb-cb6a-4bd2-ce3a-1695a0ca1858"
      },
      "outputs": [
        {
          "output_type": "stream",
          "name": "stdout",
          "text": [
            "Sum of the arrays:\n",
            "[[10.  2. 10.  4.  8.]\n",
            " [ 7.  9.  8.  5.  2.]\n",
            " [ 5.  8. 10.  9.  9.]]\n"
          ]
        }
      ],
      "source": [
        "# Add the two arrays together\n",
        "sum_array = random_array + ones_array\n",
        "print(\"Sum of the arrays:\")\n",
        "print(sum_array)"
      ]
    },
    {
      "cell_type": "code",
      "execution_count": null,
      "metadata": {
        "colab": {
          "base_uri": "https://localhost:8080/"
        },
        "id": "Co80YSfwypwr",
        "outputId": "8b6dfa2a-f583-45f4-c7c6-2a5d0bef3437"
      },
      "outputs": [
        {
          "output_type": "stream",
          "name": "stdout",
          "text": [
            "[[1. 1. 1.]\n",
            " [1. 1. 1.]\n",
            " [1. 1. 1.]\n",
            " [1. 1. 1.]\n",
            " [1. 1. 1.]]\n"
          ]
        }
      ],
      "source": [
        "# Create another array of ones of shape (5, 3)\n",
        "ones_array_5x3 = np.ones((5, 3))\n",
        "print(ones_array_5x3)"
      ]
    },
    {
      "cell_type": "code",
      "execution_count": null,
      "metadata": {
        "colab": {
          "base_uri": "https://localhost:8080/"
        },
        "id": "2Oe7OpA3ypwr",
        "outputId": "ccba098f-3f64-4867-b9a4-9ab0d954f9ae"
      },
      "outputs": [
        {
          "output_type": "stream",
          "name": "stdout",
          "text": [
            "Sum of the arrays:\n",
            "[[ 2. 10.  8. 10.  9.]\n",
            " [ 2.  9.  9. 12.  4.]\n",
            " [ 2.  9.  4.  4.  2.]]\n"
          ]
        }
      ],
      "source": [
        "# Try add the array of ones and the other most recent array together\n",
        "random_array = np.random.randint(0, 11, size=(3, 5))\n",
        "ones_array = np.ones((3, 5))\n",
        "sum_array = random_array + ones_array\n",
        "ones_array_5x3 = np.ones((5, 3))\n",
        "ones_array_transposed = ones_array_5x3.T\n",
        "final_sum_array = sum_array + ones_array_transposed\n",
        "print(\"Sum of the arrays:\")\n",
        "print(final_sum_array)"
      ]
    },
    {
      "cell_type": "markdown",
      "metadata": {
        "id": "qhTfoNEfypws"
      },
      "source": [
        "When you try the last cell, it produces an error. Why do think this is?\n",
        "\n",
        "How would you fix it?"
      ]
    },
    {
      "cell_type": "code",
      "execution_count": null,
      "metadata": {
        "colab": {
          "base_uri": "https://localhost:8080/"
        },
        "id": "k7tIwngtypws",
        "outputId": "99194367-cf3a-44a4-bb30-7b09f06ad394"
      },
      "outputs": [
        {
          "output_type": "stream",
          "name": "stdout",
          "text": [
            "[[1. 1. 1. 1. 1.]\n",
            " [1. 1. 1. 1. 1.]\n",
            " [1. 1. 1. 1. 1.]]\n"
          ]
        }
      ],
      "source": [
        "# Create another array of ones of shape (3, 5)\n",
        "import numpy as np\n",
        "ones_array_another = np.ones((3, 5))\n",
        "print(ones_array_another)"
      ]
    },
    {
      "cell_type": "code",
      "execution_count": null,
      "metadata": {
        "colab": {
          "base_uri": "https://localhost:8080/"
        },
        "id": "rJlBpkOZypws",
        "outputId": "8905e68b-fbaa-4dc9-eb4b-3c37821ed621"
      },
      "outputs": [
        {
          "output_type": "stream",
          "name": "stdout",
          "text": [
            "Result of subtraction:\n",
            "[[ 7.  9. -1.  4.  7.]\n",
            " [ 5.  1.  5.  7. -1.]\n",
            " [ 3.  8.  7. -1.  1.]]\n"
          ]
        }
      ],
      "source": [
        "# Subtract the new array of ones from the other most recent array\n",
        "random_array = np.random.randint(0, 11, size=(3, 5))\n",
        "ones_array = np.ones((3, 5))\n",
        "subtracted_array = random_array - ones_array\n",
        "print(\"Result of subtraction:\")\n",
        "print(subtracted_array)"
      ]
    },
    {
      "cell_type": "code",
      "execution_count": null,
      "metadata": {
        "colab": {
          "base_uri": "https://localhost:8080/"
        },
        "id": "IRzxo7Ydypws",
        "outputId": "0907ce23-36a4-48a0-f77b-c077d15e05a7"
      },
      "outputs": [
        {
          "output_type": "stream",
          "name": "stdout",
          "text": [
            "Result of multiplication:\n",
            "[[ 8 10  0  5  8]\n",
            " [ 6  2  6  8  0]\n",
            " [ 4  9  8  0  2]]\n"
          ]
        }
      ],
      "source": [
        "# Multiply the ones array with the latest array\n",
        "ones_array = np.ones_like(random_array)\n",
        "multiplied_array = random_array * ones_array\n",
        "print(\"Result of multiplication:\")\n",
        "print(multiplied_array)"
      ]
    },
    {
      "cell_type": "code",
      "execution_count": null,
      "metadata": {
        "colab": {
          "base_uri": "https://localhost:8080/"
        },
        "id": "P975-dTkypws",
        "outputId": "bfb00e52-e287-4ed1-cdb2-bbc93953431d"
      },
      "outputs": [
        {
          "output_type": "stream",
          "name": "stdout",
          "text": [
            "Result of raising the array to the power of 2:\n",
            "[[ 64 100   0  25  64]\n",
            " [ 36   4  36  64   0]\n",
            " [ 16  81  64   0   4]]\n"
          ]
        }
      ],
      "source": [
        "# Take the latest array to the power of 2 using '**'\n",
        "power_of_2_array = random_array ** 2\n",
        "print(\"Result of raising the array to the power of 2:\")\n",
        "print(power_of_2_array)"
      ]
    },
    {
      "cell_type": "code",
      "execution_count": null,
      "metadata": {
        "colab": {
          "base_uri": "https://localhost:8080/"
        },
        "id": "9dsl0VCeypwt",
        "outputId": "65c32c48-e1cf-443f-e5f2-4c7472e5a08c"
      },
      "outputs": [
        {
          "output_type": "stream",
          "name": "stdout",
          "text": [
            "Result of computing the square of the array:\n",
            "[[ 64 100   0  25  64]\n",
            " [ 36   4  36  64   0]\n",
            " [ 16  81  64   0   4]]\n"
          ]
        }
      ],
      "source": [
        "# Do the same thing with np.square()\n",
        "power_of_2_array = np.square(random_array)\n",
        "print(\"Result of computing the square of the array:\")\n",
        "print(power_of_2_array)"
      ]
    },
    {
      "cell_type": "code",
      "execution_count": null,
      "metadata": {
        "colab": {
          "base_uri": "https://localhost:8080/"
        },
        "id": "QbyWDyAAypwt",
        "outputId": "a8a09eba-6452-4460-fe0a-237ac7d80354"
      },
      "outputs": [
        {
          "output_type": "stream",
          "name": "stdout",
          "text": [
            "Mean of the array: 5.066666666666666\n"
          ]
        }
      ],
      "source": [
        "# Find the mean of the latest array using np.mean()\n",
        "mean_of_array = np.mean(random_array)\n",
        "print(\"Mean of the array:\", mean_of_array)"
      ]
    },
    {
      "cell_type": "code",
      "execution_count": null,
      "metadata": {
        "colab": {
          "base_uri": "https://localhost:8080/"
        },
        "id": "IAN0J783ypwt",
        "outputId": "090df290-6561-47bc-e5b1-55f73f1d75e7"
      },
      "outputs": [
        {
          "output_type": "stream",
          "name": "stdout",
          "text": [
            "Maximum value of the array: 10\n"
          ]
        }
      ],
      "source": [
        "# Find the maximum of the latest array using np.max()\n",
        "max_of_array = np.max(random_array)\n",
        "print(\"Maximum value of the array:\", max_of_array)"
      ]
    },
    {
      "cell_type": "code",
      "execution_count": null,
      "metadata": {
        "colab": {
          "base_uri": "https://localhost:8080/"
        },
        "id": "N9N10bvQypwu",
        "outputId": "ed0821ef-304f-45f2-967c-4b571090b868"
      },
      "outputs": [
        {
          "output_type": "stream",
          "name": "stdout",
          "text": [
            "Minimum value of the array: 0\n"
          ]
        }
      ],
      "source": [
        "# Find the minimum of the latest array using np.min()\n",
        "min_of_array = np.min(random_array)\n",
        "print(\"Minimum value of the array:\", min_of_array)"
      ]
    },
    {
      "cell_type": "code",
      "execution_count": null,
      "metadata": {
        "colab": {
          "base_uri": "https://localhost:8080/"
        },
        "id": "1h8BHCIUypwu",
        "outputId": "ea3663ae-6045-4520-c287-29fde74da572"
      },
      "outputs": [
        {
          "output_type": "stream",
          "name": "stdout",
          "text": [
            "Standard deviation of the array: 3.3954217541991585\n"
          ]
        }
      ],
      "source": [
        "# Find the standard deviation of the latest array\n",
        "std_deviation_of_array = np.std(random_array)\n",
        "print(\"Standard deviation of the array:\", std_deviation_of_array)"
      ]
    },
    {
      "cell_type": "code",
      "execution_count": null,
      "metadata": {
        "colab": {
          "base_uri": "https://localhost:8080/"
        },
        "id": "0BYd-T0Pypwv",
        "outputId": "855b30c2-5f2c-4f47-e2ee-cb16fc46b51e"
      },
      "outputs": [
        {
          "output_type": "stream",
          "name": "stdout",
          "text": [
            "Variance of the array: 11.528888888888892\n"
          ]
        }
      ],
      "source": [
        "# Find the variance of the latest array\n",
        "variance_of_array = np.var(random_array)\n",
        "print(\"Variance of the array:\", variance_of_array)"
      ]
    },
    {
      "cell_type": "code",
      "execution_count": null,
      "metadata": {
        "colab": {
          "base_uri": "https://localhost:8080/"
        },
        "id": "yaiG_s8Eypwv",
        "outputId": "aab94f28-f8c3-48d4-da6f-5ec29d9df241"
      },
      "outputs": [
        {
          "output_type": "stream",
          "name": "stdout",
          "text": [
            "Reshaped array:\n",
            "[[[ 8]\n",
            "  [10]\n",
            "  [ 0]\n",
            "  [ 5]\n",
            "  [ 8]]\n",
            "\n",
            " [[ 6]\n",
            "  [ 2]\n",
            "  [ 6]\n",
            "  [ 8]\n",
            "  [ 0]]\n",
            "\n",
            " [[ 4]\n",
            "  [ 9]\n",
            "  [ 8]\n",
            "  [ 0]\n",
            "  [ 2]]]\n"
          ]
        }
      ],
      "source": [
        "# Reshape the latest array to (3, 5, 1)\n",
        "reshaped_array = random_array.reshape(3, 5, 1)\n",
        "print(\"Reshaped array:\")\n",
        "print(reshaped_array)"
      ]
    },
    {
      "cell_type": "code",
      "execution_count": null,
      "metadata": {
        "colab": {
          "base_uri": "https://localhost:8080/"
        },
        "id": "NgVwS66Hypwv",
        "outputId": "bb59bb17-308e-402d-abf4-6ba38380e9de"
      },
      "outputs": [
        {
          "output_type": "stream",
          "name": "stdout",
          "text": [
            "Transposed array:\n",
            "[[ 8  6  4]\n",
            " [10  2  9]\n",
            " [ 0  6  8]\n",
            " [ 5  8  0]\n",
            " [ 8  0  2]]\n"
          ]
        }
      ],
      "source": [
        "# Transpose the latest array\n",
        "transposed_array = np.transpose(random_array)\n",
        "print(\"Transposed array:\")\n",
        "print(transposed_array)"
      ]
    },
    {
      "cell_type": "markdown",
      "metadata": {
        "id": "dkua6eCUypww"
      },
      "source": [
        "What does the transpose do?"
      ]
    },
    {
      "cell_type": "code",
      "execution_count": null,
      "metadata": {
        "colab": {
          "base_uri": "https://localhost:8080/"
        },
        "id": "t_LL4sEgypww",
        "outputId": "17538c69-fe2b-43dd-c784-2494fb4c6241"
      },
      "outputs": [
        {
          "output_type": "stream",
          "name": "stdout",
          "text": [
            "Array of size (3, 3):\n",
            "[[ 1 10  5]\n",
            " [10  3  7]\n",
            " [ 0  0  7]]\n",
            "\n",
            "Array of size (3, 2):\n",
            "[[ 2  6]\n",
            " [ 5 10]\n",
            " [ 3  8]]\n"
          ]
        }
      ],
      "source": [
        "# Create two arrays of random integers between 0 to 10\n",
        "# one of size (3, 3) the other of size (3, 2)\n",
        "array_3x3 = np.random.randint(0, 11, size=(3, 3))\n",
        "array_3x2 = np.random.randint(0, 11, size=(3, 2))\n",
        "print(\"Array of size (3, 3):\")\n",
        "print(array_3x3)\n",
        "print(\"\\nArray of size (3, 2):\")\n",
        "print(array_3x2)"
      ]
    },
    {
      "cell_type": "code",
      "execution_count": null,
      "metadata": {
        "colab": {
          "base_uri": "https://localhost:8080/"
        },
        "id": "eThGDyOmypwx",
        "outputId": "84b15b40-7821-4239-b64c-27190aeb8e85"
      },
      "outputs": [
        {
          "output_type": "stream",
          "name": "stdout",
          "text": [
            "Dot product result:\n",
            "[[ 67 146]\n",
            " [ 56 146]\n",
            " [ 21  56]]\n"
          ]
        }
      ],
      "source": [
        "# Perform a dot product on the two newest arrays you created\n",
        "dot_product_result = np.dot(array_3x3, array_3x2)\n",
        "print(\"Dot product result:\")\n",
        "print(dot_product_result)"
      ]
    },
    {
      "cell_type": "code",
      "execution_count": null,
      "metadata": {
        "colab": {
          "base_uri": "https://localhost:8080/"
        },
        "id": "q3FU0AAkypwy",
        "outputId": "66581b46-cc22-4b19-fda0-a47ab046a082"
      },
      "outputs": [
        {
          "output_type": "stream",
          "name": "stdout",
          "text": [
            "Array 1 of size (4, 3):\n",
            "[[ 0  8 10]\n",
            " [ 6  5  7]\n",
            " [ 4  5 10]\n",
            " [ 2  2  2]]\n",
            "\n",
            "Array 2 of size (4, 3):\n",
            "[[6 4 0]\n",
            " [1 1 1]\n",
            " [2 9 9]\n",
            " [4 1 2]]\n"
          ]
        }
      ],
      "source": [
        "# Create two arrays of random integers between 0 to 10\n",
        "# both of size (4, 3)\n",
        "import numpy as np\n",
        "array1_4x3 = np.random.randint(0, 11, size=(4, 3))\n",
        "array2_4x3 = np.random.randint(0, 11, size=(4, 3))\n",
        "print(\"Array 1 of size (4, 3):\")\n",
        "print(array1_4x3)\n",
        "print(\"\\nArray 2 of size (4, 3):\")\n",
        "print(array2_4x3)"
      ]
    },
    {
      "cell_type": "code",
      "execution_count": null,
      "metadata": {
        "colab": {
          "base_uri": "https://localhost:8080/"
        },
        "id": "xW5alE6qypwz",
        "outputId": "6ab85bc4-a9ae-48c7-f33a-9a69a4148524"
      },
      "outputs": [
        {
          "output_type": "stream",
          "name": "stdout",
          "text": [
            "Dot product result:\n",
            "[[ 32  18 162  28]\n",
            " [ 56  18 120  43]\n",
            " [ 44  19 143  41]\n",
            " [ 20   6  40  14]]\n"
          ]
        }
      ],
      "source": [
        "# Perform a dot product on the two newest arrays you created\n",
        "dot_product_result = np.dot(array1_4x3, array2_4x3.T)\n",
        "print(\"Dot product result:\")\n",
        "print(dot_product_result)"
      ]
    },
    {
      "cell_type": "markdown",
      "metadata": {
        "id": "WhlRQKyzypwz"
      },
      "source": [
        "It doesn't work. How would you fix it?"
      ]
    },
    {
      "cell_type": "code",
      "execution_count": null,
      "metadata": {
        "colab": {
          "base_uri": "https://localhost:8080/"
        },
        "id": "ZTTt5zVXypwz",
        "outputId": "9c32f8f2-a4de-473e-b7b3-d3cb3a6c200a"
      },
      "outputs": [
        {
          "output_type": "stream",
          "name": "stdout",
          "text": [
            "Dot product result:\n",
            "[[ 22  44  46]\n",
            " [ 71  84  54]\n",
            " [ 95 139 101]]\n"
          ]
        }
      ],
      "source": [
        "# Take the latest two arrays, perform a transpose on one of them and then perform\n",
        "# a dot product on them both\n",
        "array1_transposed = array1_4x3.T\n",
        "dot_product_result = np.dot(array1_transposed, array2_4x3)\n",
        "print(\"Dot product result:\")\n",
        "print(dot_product_result)"
      ]
    },
    {
      "cell_type": "markdown",
      "metadata": {
        "id": "-byXIJCiypw0"
      },
      "source": [
        "Notice how performing a transpose allows the dot product to happen.\n",
        "\n",
        "Why is this?\n",
        "\n",
        "Checking out the documentation on [`np.dot()`](https://docs.scipy.org/doc/numpy/reference/generated/numpy.dot.html) may help, as well as reading [Math is Fun's guide on the dot product](https://www.mathsisfun.com/algebra/vectors-dot-product.html).\n",
        "\n",
        "Let's now compare arrays."
      ]
    },
    {
      "cell_type": "code",
      "execution_count": null,
      "metadata": {
        "colab": {
          "base_uri": "https://localhost:8080/"
        },
        "id": "Kf5FRVArypw0",
        "outputId": "7fed425a-0a45-47b7-b8c4-e5be1a42ad14"
      },
      "outputs": [
        {
          "output_type": "stream",
          "name": "stdout",
          "text": [
            "Array 1:\n",
            "[[9 0 3]\n",
            " [7 5 1]\n",
            " [6 1 2]\n",
            " [4 8 5]]\n",
            "\n",
            "Array 2:\n",
            "[[3 4 0]\n",
            " [2 9 0]\n",
            " [3 3 7]\n",
            " [3 0 4]]\n"
          ]
        }
      ],
      "source": [
        "# Create two arrays of random integers between 0 & 10 of the same shape\n",
        "# and save them to variables\n",
        "shape = (4, 3)\n",
        "array1 = np.random.randint(0, 11, size=shape)\n",
        "array2 = np.random.randint(0, 11, size=shape)\n",
        "print(\"Array 1:\")\n",
        "print(array1)\n",
        "print(\"\\nArray 2:\")\n",
        "print(array2)"
      ]
    },
    {
      "cell_type": "code",
      "execution_count": null,
      "metadata": {
        "colab": {
          "base_uri": "https://localhost:8080/"
        },
        "id": "w3gLrHZTypw0",
        "outputId": "b55c159e-b92c-4829-bec7-2b032e19dfd9"
      },
      "outputs": [
        {
          "output_type": "stream",
          "name": "stdout",
          "text": [
            "Comparison result (array1 > array2):\n",
            "[[ True False  True]\n",
            " [ True False  True]\n",
            " [ True False False]\n",
            " [ True  True  True]]\n"
          ]
        }
      ],
      "source": [
        "# Compare the two arrays with '>'\n",
        "comparison_result = array1 > array2\n",
        "print(\"Comparison result (array1 > array2):\")\n",
        "print(comparison_result)"
      ]
    },
    {
      "cell_type": "markdown",
      "metadata": {
        "id": "i1MG2Tc_ypw0"
      },
      "source": [
        "What happens when you compare the arrays with `>`?"
      ]
    },
    {
      "cell_type": "code",
      "execution_count": null,
      "metadata": {
        "colab": {
          "base_uri": "https://localhost:8080/"
        },
        "id": "zwhtMalWypw1",
        "outputId": "437024cd-9a32-42b1-a4b8-f0c626158c55"
      },
      "outputs": [
        {
          "output_type": "stream",
          "name": "stdout",
          "text": [
            "Comparison result (array1 > array2):\n",
            "[[ True False  True]\n",
            " [ True False  True]\n",
            " [ True False False]\n",
            " [ True  True  True]]\n"
          ]
        }
      ],
      "source": [
        "# Compare the two arrays with '>='\n",
        "comparison_result = array1 >= array2\n",
        "print(\"Comparison result (array1 > array2):\")\n",
        "print(comparison_result)"
      ]
    },
    {
      "cell_type": "code",
      "execution_count": null,
      "metadata": {
        "colab": {
          "base_uri": "https://localhost:8080/"
        },
        "id": "ScmaCRK4ypw1",
        "outputId": "95e1b20c-4334-4d81-c843-c9ff929def3b"
      },
      "outputs": [
        {
          "output_type": "stream",
          "name": "stdout",
          "text": [
            "Elements of the first array greater than 7:\n",
            "[9 8]\n"
          ]
        }
      ],
      "source": [
        "# Find which elements of the first array are greater than 7\n",
        "elements_greater_than_7 = array1[array1 > 7]\n",
        "print(\"Elements of the first array greater than 7:\")\n",
        "print(elements_greater_than_7)"
      ]
    },
    {
      "cell_type": "code",
      "execution_count": null,
      "metadata": {
        "colab": {
          "base_uri": "https://localhost:8080/"
        },
        "id": "0c-pUEJIypw1",
        "outputId": "571a32d6-2de3-4d3e-fd06-5c374170436a"
      },
      "outputs": [
        {
          "output_type": "stream",
          "name": "stdout",
          "text": [
            "Equality result (array1 == array2):\n",
            "[[ True  True  True]\n",
            " [ True  True  True]\n",
            " [ True  True  True]\n",
            " [ True  True  True]]\n"
          ]
        }
      ],
      "source": [
        "# Which parts of each array are equal? (try using '==')\n",
        "array2=array1\n",
        "equality_result = array1 == array2\n",
        "print(\"Equality result (array1 == array2):\")\n",
        "print(equality_result)"
      ]
    },
    {
      "cell_type": "code",
      "execution_count": null,
      "metadata": {
        "colab": {
          "base_uri": "https://localhost:8080/"
        },
        "id": "huf5dVq7ypw1",
        "outputId": "715372e3-f00f-4929-fc24-fe0541661daa"
      },
      "outputs": [
        {
          "output_type": "stream",
          "name": "stdout",
          "text": [
            "Original array:\n",
            "[[9 0 3]\n",
            " [7 5 1]\n",
            " [6 1 2]\n",
            " [4 8 5]]\n",
            "\n",
            "Sorted array in ascending order:\n",
            "[[0 3 9]\n",
            " [1 5 7]\n",
            " [1 2 6]\n",
            " [4 5 8]]\n"
          ]
        }
      ],
      "source": [
        "# Sort one of the arrays you just created in ascending order\n",
        "sorted_array1 = np.sort(array1)\n",
        "print(\"Original array:\")\n",
        "print(array1)\n",
        "print(\"\\nSorted array in ascending order:\")\n",
        "print(sorted_array1)"
      ]
    },
    {
      "cell_type": "code",
      "execution_count": null,
      "metadata": {
        "colab": {
          "base_uri": "https://localhost:8080/"
        },
        "id": "6mQmthXtypw2",
        "outputId": "30594d31-acac-4059-8466-c10b5199c1d2"
      },
      "outputs": [
        {
          "output_type": "stream",
          "name": "stdout",
          "text": [
            "Original array:\n",
            "[[9 0 3]\n",
            " [7 5 1]\n",
            " [6 1 2]\n",
            " [4 8 5]]\n",
            "\n",
            "Sorted indexes:\n",
            "[[1 2 0]\n",
            " [2 1 0]\n",
            " [1 2 0]\n",
            " [0 2 1]]\n"
          ]
        }
      ],
      "source": [
        "# Sort the indexes of one of the arrays you just created\n",
        "sorted_indexes = np.argsort(array1)\n",
        "print(\"Original array:\")\n",
        "print(array1)\n",
        "print(\"\\nSorted indexes:\")\n",
        "print(sorted_indexes)"
      ]
    },
    {
      "cell_type": "code",
      "execution_count": null,
      "metadata": {
        "colab": {
          "base_uri": "https://localhost:8080/"
        },
        "id": "Qr2xH-HDypw2",
        "outputId": "ab629791-e709-40e0-f9c6-ed9064dda078"
      },
      "outputs": [
        {
          "output_type": "stream",
          "name": "stdout",
          "text": [
            "Original array:\n",
            "[[9 0 3]\n",
            " [7 5 1]\n",
            " [6 1 2]\n",
            " [4 8 5]]\n",
            "\n",
            "Index with the maximum value: (0, 0)\n",
            "Maximum value in the array: 9\n"
          ]
        }
      ],
      "source": [
        "# Find the index with the maximum value in one of the arrays you've created\n",
        "max_index = np.argmax(array1)\n",
        "row_index, col_index = np.unravel_index(max_index, shape)\n",
        "print(\"Original array:\")\n",
        "print(array1)\n",
        "print(\"\\nIndex with the maximum value:\", (row_index, col_index))\n",
        "print(\"Maximum value in the array:\", array1[row_index, col_index])"
      ]
    },
    {
      "cell_type": "code",
      "execution_count": null,
      "metadata": {
        "colab": {
          "base_uri": "https://localhost:8080/"
        },
        "id": "X1iIyfQ-ypw2",
        "outputId": "478a88b2-8501-428a-ad06-b777e6ec84e9"
      },
      "outputs": [
        {
          "output_type": "stream",
          "name": "stdout",
          "text": [
            "Original array:\n",
            "[[9 0 3]\n",
            " [7 5 1]\n",
            " [6 1 2]\n",
            " [4 8 5]]\n",
            "\n",
            "Index with the minimum value: (0, 1)\n",
            "Minimum value in the array: 0\n"
          ]
        }
      ],
      "source": [
        "# Find the index with the minimum value in one of the arrays you've created\n",
        "min_index = np.argmin(array1)\n",
        "row_index, col_index = np.unravel_index(min_index, shape)\n",
        "print(\"Original array:\")\n",
        "print(array1)\n",
        "print(\"\\nIndex with the minimum value:\", (row_index, col_index))\n",
        "print(\"Minimum value in the array:\", array1[row_index, col_index])"
      ]
    },
    {
      "cell_type": "code",
      "execution_count": null,
      "metadata": {
        "colab": {
          "base_uri": "https://localhost:8080/"
        },
        "id": "GG_ZKxaMypw3",
        "outputId": "e484245a-3060-4aeb-d657-4e4e8cbf5270"
      },
      "outputs": [
        {
          "output_type": "stream",
          "name": "stdout",
          "text": [
            "Original array:\n",
            "[[9 0 3]\n",
            " [7 5 1]\n",
            " [6 1 2]\n",
            " [4 8 5]]\n",
            "\n",
            "Indexes with maximum values along axis=1:\n",
            "[0 0 0 1]\n"
          ]
        }
      ],
      "source": [
        "# Find the indexes with the maximum values down the 1st axis (axis=1)\n",
        "# of one of the arrays you created\n",
        "max_indexes_axis1 = np.argmax(array1, axis=1)\n",
        "print(\"Original array:\")\n",
        "print(array1)\n",
        "print(\"\\nIndexes with maximum values along axis=1:\")\n",
        "print(max_indexes_axis1)"
      ]
    },
    {
      "cell_type": "code",
      "execution_count": null,
      "metadata": {
        "colab": {
          "base_uri": "https://localhost:8080/"
        },
        "id": "Oxymgr9oypw3",
        "outputId": "e1d96531-eea5-46c5-8e3a-036092324da0"
      },
      "outputs": [
        {
          "output_type": "stream",
          "name": "stdout",
          "text": [
            "Original array:\n",
            "[[9 0 3]\n",
            " [7 5 1]\n",
            " [6 1 2]\n",
            " [4 8 5]]\n",
            "\n",
            "Indexes with minimum values across axis=0:\n",
            "[3 0 1]\n"
          ]
        }
      ],
      "source": [
        "# Find the indexes with the minimum values across the 0th axis (axis=0)\n",
        "# of one of the arrays you created\n",
        "min_indexes_axis0 = np.argmin(array1, axis=0)\n",
        "print(\"Original array:\")\n",
        "print(array1)\n",
        "print(\"\\nIndexes with minimum values across axis=0:\")\n",
        "print(min_indexes_axis0)"
      ]
    },
    {
      "cell_type": "code",
      "execution_count": null,
      "metadata": {
        "colab": {
          "base_uri": "https://localhost:8080/"
        },
        "id": "OT_-12KPypw3",
        "outputId": "e7bf7741-72d1-4b34-d7ec-f3b311128949"
      },
      "outputs": [
        {
          "output_type": "stream",
          "name": "stdout",
          "text": [
            "Array of normally distributed random numbers:\n",
            "[[ 0.25056525  0.6633964  -0.86303772]\n",
            " [-0.50356356 -1.00104193  0.44495141]\n",
            " [-1.67516201  1.2772512   1.04342832]]\n"
          ]
        }
      ],
      "source": [
        "# Create an array of normally distributed random numbers\n",
        "mean = 0   # Mean of the distribution\n",
        "std_dev = 1   # Standard deviation of the distribution\n",
        "size = (3, 3)   # Size of the array\n",
        "normal_array = np.random.normal(mean, std_dev, size)\n",
        "print(\"Array of normally distributed random numbers:\")\n",
        "print(normal_array)"
      ]
    },
    {
      "cell_type": "code",
      "execution_count": null,
      "metadata": {
        "colab": {
          "base_uri": "https://localhost:8080/"
        },
        "id": "uTQsAc70ypw4",
        "outputId": "2c9709b7-9cd2-4eba-b0c9-379d5ee8921a"
      },
      "outputs": [
        {
          "output_type": "stream",
          "name": "stdout",
          "text": [
            "Array with 10 evenly spaced numbers between 1 and 100:\n",
            "[  1.  12.  23.  34.  45.  56.  67.  78.  89. 100.]\n"
          ]
        }
      ],
      "source": [
        "# Create an array with 10 evenly spaced numbers between 1 and 100\n",
        "evenly_spaced_array = np.linspace(1, 100, 10)\n",
        "print(\"Array with 10 evenly spaced numbers between 1 and 100:\")\n",
        "print(evenly_spaced_array)"
      ]
    },
    {
      "cell_type": "markdown",
      "metadata": {
        "id": "QKHAWvkhypw4"
      },
      "source": [
        "## Extensions\n",
        "\n",
        "For more exercises, check out the [NumPy quickstart tutorial](https://numpy.org/doc/stable/user/quickstart.html). A good practice would be to read through it and for the parts you find interesting, add them into the end of this notebook.\n",
        "\n",
        "Pay particular attention to the section on broadcasting. And most importantly, get hands-on with the code as much as possible. If in dobut, run the code, see what it does.\n",
        "\n",
        "The next place you could go is the [Stack Overflow page for the top questions and answers for NumPy](https://stackoverflow.com/questions/tagged/numpy?sort=MostVotes&edited=true). Often, you'll find some of the most common and useful NumPy functions here. Don't forget to play around with the filters! You'll likely find something helpful here.\n",
        "\n",
        "Finally, as always, remember, the best way to learn something new is to try it. And try it relentlessly. If you get interested in some kind of NumPy function, asking yourself, \"I wonder if NumPy could do that?\", go and find out."
      ]
    }
  ],
  "metadata": {
    "kernelspec": {
      "display_name": "Python 3",
      "language": "python",
      "name": "python3"
    },
    "language_info": {
      "codemirror_mode": {
        "name": "ipython",
        "version": 3
      },
      "file_extension": ".py",
      "mimetype": "text/x-python",
      "name": "python",
      "nbconvert_exporter": "python",
      "pygments_lexer": "ipython3",
      "version": "3.8.3"
    },
    "colab": {
      "provenance": []
    }
  },
  "nbformat": 4,
  "nbformat_minor": 0
}